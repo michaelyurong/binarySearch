{
 "cells": [
  {
   "cell_type": "code",
   "execution_count": 1,
   "id": "3986a2b4",
   "metadata": {},
   "outputs": [],
   "source": [
    "def binSearch(arr, size, userValue):\n",
    "    low = 0\n",
    "    high = size - 1\n",
    "    while(low <= high):\n",
    "        mid = int((low + high) / 2)\n",
    "        if arr[mid] == userValue:\n",
    "            return mid\n",
    "        elif userValue > arr[mid]:\n",
    "            low = mid + 1\n",
    "        else:\n",
    "            high = mid - 1\n",
    "    return -1\n"
   ]
  },
  {
   "cell_type": "code",
   "execution_count": 2,
   "id": "d2ce1256",
   "metadata": {},
   "outputs": [
    {
     "data": {
      "text/plain": [
       "7"
      ]
     },
     "execution_count": 2,
     "metadata": {},
     "output_type": "execute_result"
    }
   ],
   "source": [
    "# array needs to be in ascending order\n",
    "lst = [10,20,30,40,50,60,70,80,90]\n",
    "binSearch(lst, 9, 80)"
   ]
  },
  {
   "cell_type": "code",
   "execution_count": null,
   "id": "f683afdf",
   "metadata": {},
   "outputs": [],
   "source": []
  }
 ],
 "metadata": {
  "kernelspec": {
   "display_name": "Python 3 (ipykernel)",
   "language": "python",
   "name": "python3"
  },
  "language_info": {
   "codemirror_mode": {
    "name": "ipython",
    "version": 3
   },
   "file_extension": ".py",
   "mimetype": "text/x-python",
   "name": "python",
   "nbconvert_exporter": "python",
   "pygments_lexer": "ipython3",
   "version": "3.12.2"
  }
 },
 "nbformat": 4,
 "nbformat_minor": 5
}
